{
  "cells": [
    {
      "cell_type": "code",
      "execution_count": 1,
      "metadata": {
        "id": "DAiiv4lV3rtN"
      },
      "outputs": [],
      "source": [
        "import pandas as pd\n",
        "import numpy as np\n",
        "from collections import Counter\n",
        "from sklearn.model_selection import train_test_split\n",
        "import matplotlib.pyplot as plt"
      ]
    },
    {
      "cell_type": "code",
      "execution_count": 2,
      "metadata": {
        "id": "L91_5bJgg55x"
      },
      "outputs": [],
      "source": [
        "# Load the dataset\n",
        "iris_data = pd.read_csv('/content/iris.csv')"
      ]
    },
    {
      "cell_type": "code",
      "execution_count": 3,
      "metadata": {
        "id": "QOSqST_hhE5W"
      },
      "outputs": [],
      "source": [
        "X = iris_data.iloc[:, :-1].values\n",
        "y = iris_data.iloc[:, -1].values"
      ]
    },
    {
      "cell_type": "code",
      "execution_count": 4,
      "metadata": {
        "id": "m6ETwAathHED"
      },
      "outputs": [],
      "source": [
        "# Split into training and testing sets (80% train, 20% test)\n",
        "train_X, test_X, train_y, test_y = train_test_split(X, y, test_size=0.2, random_state=42)"
      ]
    },
    {
      "cell_type": "code",
      "execution_count": 5,
      "metadata": {
        "id": "llEYjjM-hKbl"
      },
      "outputs": [],
      "source": [
        "# Euclidean distance function\n",
        "def euclidean_distance(point1, point2):\n",
        "    distance = 0.0\n",
        "    for i in range(len(point1)):\n",
        "        distance += (point1[i] - point2[i]) ** 2\n",
        "    return np.sqrt(distance)"
      ]
    },
    {
      "cell_type": "code",
      "execution_count": 6,
      "metadata": {
        "id": "UOZSDayLhKsE"
      },
      "outputs": [],
      "source": [
        "# K-NN Prediction function\n",
        "def knn_predict(train_X, train_y, test_point, k):\n",
        "    distances = []\n",
        "\n",
        "    # Calculate distance between the test point and all training points\n",
        "    for i in range(len(train_X)):\n",
        "        dist = euclidean_distance(test_point, train_X[i])\n",
        "        distances.append((train_y[i], dist))\n",
        "\n",
        "    # Sort the distances by the smallest distance first\n",
        "    distances.sort(key=lambda x: x[1])\n",
        "\n",
        "    # Get the labels of the k closest neighbors\n",
        "    k_nearest_neighbors = [label for label, dist in distances[:k]]\n",
        "\n",
        "    # Return the most common label among the neighbors\n",
        "    return Counter(k_nearest_neighbors).most_common(1)[0][0]"
      ]
    },
    {
      "cell_type": "code",
      "execution_count": 7,
      "metadata": {
        "id": "K--ukfPVhZbd"
      },
      "outputs": [],
      "source": [
        "# Accuracy function\n",
        "def calculate_accuracy(real_labels, predicted_labels):\n",
        "    correct_count = 0\n",
        "    for i in range(len(real_labels)):\n",
        "        if real_labels[i] == predicted_labels[i]:\n",
        "            correct_count += 1\n",
        "    return correct_count / len(real_labels)"
      ]
    },
    {
      "cell_type": "code",
      "execution_count": 8,
      "metadata": {
        "id": "Oa3XhTxVhZfc"
      },
      "outputs": [],
      "source": [
        "# Confusion matrix function\n",
        "def confusion_matrix_simple(actual_labels, predicted_labels):\n",
        "    unique_labels = list(set(actual_labels))\n",
        "    conf_matrix = [[0 for _ in unique_labels] for _ in unique_labels]\n",
        "# Fill the confusion matrix\n",
        "    for i in range(len(actual_labels)):\n",
        "        actual = unique_labels.index(actual_labels[i])\n",
        "        predicted = unique_labels.index(predicted_labels[i])\n",
        "        conf_matrix[actual][predicted] += 1\n",
        "\n",
        "    return conf_matrix"
      ]
    },
    {
      "cell_type": "code",
      "execution_count": 9,
      "metadata": {
        "id": "sOKZBFfmhZky"
      },
      "outputs": [],
      "source": [
        "# Function to run K-NN and return accuracy and confusion matrix\n",
        "def knn_for_k_value(k):\n",
        "    predictions = []\n",
        "    for test_point in test_X:\n",
        "        prediction = knn_predict(train_X, train_y, test_point, k)\n",
        "        predictions.append(prediction)\n",
        "\n",
        "    accuracy = calculate_accuracy(test_y, predictions)\n",
        "    # Generate confusion matrix\n",
        "    conf_matrix = confusion_matrix_simple(test_y, predictions)\n",
        "\n",
        "    return accuracy, conf_matrix"
      ]
    },
    {
      "cell_type": "code",
      "execution_count": 10,
      "metadata": {
        "id": "fDa1vuYohZqo"
      },
      "outputs": [],
      "source": [
        "# Define a range of k values to test\n",
        "k_values = range(1, 10)\n",
        "accuracies = []"
      ]
    },
    {
      "cell_type": "code",
      "execution_count": 11,
      "metadata": {
        "colab": {
          "base_uri": "https://localhost:8080/"
        },
        "id": "ugwpRnJnhK2h",
        "outputId": "a96e51b5-ccc3-4494-84e6-69785156440b"
      },
      "outputs": [
        {
          "name": "stdout",
          "output_type": "stream",
          "text": [
            "\n",
            "k = 1, Accuracy: 100.00%\n",
            "Confusion Matrix:\n",
            "[10, 0, 0]\n",
            "[0, 9, 0]\n",
            "[0, 0, 11]\n",
            "\n",
            "k = 2, Accuracy: 100.00%\n",
            "Confusion Matrix:\n",
            "[10, 0, 0]\n",
            "[0, 9, 0]\n",
            "[0, 0, 11]\n",
            "\n",
            "k = 3, Accuracy: 100.00%\n",
            "Confusion Matrix:\n",
            "[10, 0, 0]\n",
            "[0, 9, 0]\n",
            "[0, 0, 11]\n",
            "\n",
            "k = 4, Accuracy: 100.00%\n",
            "Confusion Matrix:\n",
            "[10, 0, 0]\n",
            "[0, 9, 0]\n",
            "[0, 0, 11]\n",
            "\n",
            "k = 5, Accuracy: 100.00%\n",
            "Confusion Matrix:\n",
            "[10, 0, 0]\n",
            "[0, 9, 0]\n",
            "[0, 0, 11]\n",
            "\n",
            "k = 6, Accuracy: 100.00%\n",
            "Confusion Matrix:\n",
            "[10, 0, 0]\n",
            "[0, 9, 0]\n",
            "[0, 0, 11]\n",
            "\n",
            "k = 7, Accuracy: 96.67%\n",
            "Confusion Matrix:\n",
            "[10, 0, 0]\n",
            "[0, 8, 1]\n",
            "[0, 0, 11]\n",
            "\n",
            "k = 8, Accuracy: 100.00%\n",
            "Confusion Matrix:\n",
            "[10, 0, 0]\n",
            "[0, 9, 0]\n",
            "[0, 0, 11]\n",
            "\n",
            "k = 9, Accuracy: 100.00%\n",
            "Confusion Matrix:\n",
            "[10, 0, 0]\n",
            "[0, 9, 0]\n",
            "[0, 0, 11]\n"
          ]
        }
      ],
      "source": [
        "# Calculate accuracy and confusion matrix for each value of k\n",
        "for k in k_values:\n",
        "    accuracy, conf_matrix = knn_for_k_value(k)\n",
        "    accuracies.append(accuracy)\n",
        "    print(f\"\\nk = {k}, Accuracy: {accuracy * 100:.2f}%\")\n",
        "    print(\"Confusion Matrix:\")\n",
        "    for row in conf_matrix:\n",
        "        print(row)"
      ]
    },
    {
      "cell_type": "code",
      "execution_count": 12,
      "metadata": {
        "colab": {
          "base_uri": "https://localhost:8080/"
        },
        "id": "HVAt9jaPhK4w",
        "outputId": "cd361e58-dfe6-44cd-cfe9-37c14a2e5fe9"
      },
      "outputs": [
        {
          "name": "stdout",
          "output_type": "stream",
          "text": [
            "\n",
            "Best k value: 1 with accuracy: 100.00%\n"
          ]
        }
      ],
      "source": [
        "# Find the k value with the maximum accuracy\n",
        "max_accuracy = max(accuracies)\n",
        "best_k = k_values[accuracies.index(max_accuracy)]\n",
        "print(f\"\\nBest k value: {best_k} with accuracy: {max_accuracy * 100:.2f}%\")"
      ]
    },
    {
      "cell_type": "code",
      "execution_count": 15,
      "metadata": {
        "colab": {
          "base_uri": "https://localhost:8080/",
          "height": 472
        },
        "id": "Kv-T5SVghK8J",
        "outputId": "af4f4d42-de2e-4dc8-e83b-94636e4a4e4e"
      },
      "outputs": [
        {
          "data": {
            "image/png": "[encoded data removed]",
            "text/plain": [
              "<Figure size 640x480 with 1 Axes>"
            ]
          },
          "metadata": {},
          "output_type": "display_data"
        }
      ],
      "source": [
        "# Plot the curve \"K vs accuracy\"\n",
        "plt.plot(k_values, accuracies, marker='o')\n",
        "plt.title('K vs Accuracy')\n",
        "plt.xlabel('K')\n",
        "plt.ylabel('Accuracy')\n",
        "plt.grid(True)\n",
        "plt.show()"
      ]
    }
  ],
  "metadata": {
    "colab": {
      "provenance": []
    },
    "kernelspec": {
      "display_name": "Python 3",
      "name": "python3"
    },
    "language_info": {
      "name": "python"
    }
  },
  "nbformat": 4,
  "nbformat_minor": 0
}
